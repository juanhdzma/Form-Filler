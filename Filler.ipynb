{
 "cells": [
  {
   "cell_type": "code",
   "execution_count": 10,
   "metadata": {},
   "outputs": [],
   "source": [
    "from selenium import webdriver\n",
    "from selenium.webdriver.common.by import By\n",
    "from selenium.webdriver.common.keys import Keys\n",
    "from selenium.webdriver.chrome.service import Service\n",
    "import pandas as pd\n",
    "from time import sleep\n",
    "\n",
    "# https://googlechromelabs.github.io/chrome-for-testing/"
   ]
  },
  {
   "cell_type": "code",
   "execution_count": 11,
   "metadata": {},
   "outputs": [],
   "source": [
    "CSV_FILE = \"./data.csv\"\n",
    "URL = \"https://www.selenium.dev/selenium/web/web-form.html\"\n",
    "CHROMEDRIVER_PATH = \"./chromedriver-mac-arm64/chromedriver\""
   ]
  },
  {
   "cell_type": "code",
   "execution_count": 12,
   "metadata": {},
   "outputs": [],
   "source": [
    "def setup_driver():\n",
    "    \"\"\"Inicializa y devuelve el controlador de Selenium.\"\"\"\n",
    "    service = Service(CHROMEDRIVER_PATH)\n",
    "    return webdriver.Chrome(service=service)\n",
    "\n",
    "def read_csv(file_path):\n",
    "    \"\"\"Lee un archivo CSV y devuelve un DataFrame de pandas.\"\"\"\n",
    "    return pd.read_csv(file_path)"
   ]
  },
  {
   "cell_type": "code",
   "execution_count": 13,
   "metadata": {},
   "outputs": [],
   "source": [
    "def wait_and_execute(func, *args):\n",
    "    \"\"\"Ejecuta una función con un breve retraso.\"\"\"\n",
    "    sleep(1)\n",
    "    return func(*args)\n",
    "\n",
    "def fill_form(driver, name, password, text):\n",
    "    \"\"\"Llena y envía un formulario en la página web.\"\"\"\n",
    "    wait_and_execute(driver.get, URL)\n",
    "    wait_and_execute(driver.find_element, By.NAME, \"my-text\").send_keys(name)\n",
    "    wait_and_execute(driver.find_element, By.NAME, \"my-password\").send_keys(password)\n",
    "    wait_and_execute(driver.find_element, By.NAME, \"my-textarea\").send_keys(text)\n",
    "    wait_and_execute(driver.find_element, By.CSS_SELECTOR, 'button[type=\"submit\"]').send_keys(Keys.RETURN)"
   ]
  },
  {
   "cell_type": "code",
   "execution_count": 14,
   "metadata": {},
   "outputs": [],
   "source": [
    "def main():\n",
    "    \"\"\"Ejecuta el proceso de llenado de formularios con los datos del CSV.\"\"\"\n",
    "    driver = setup_driver()\n",
    "    df = read_csv(CSV_FILE)\n",
    "    for _, row in df.iterrows():\n",
    "        fill_form(driver, row[\"NAME\"], row[\"PASSWORD\"], row[\"TEXT\"])\n",
    "    sleep(1)\n",
    "    driver.quit()\n",
    "\n",
    "if __name__ == \"__main__\":\n",
    "    main()"
   ]
  }
 ],
 "metadata": {
  "kernelspec": {
   "display_name": "Sandbox",
   "language": "python",
   "name": "python3"
  },
  "language_info": {
   "codemirror_mode": {
    "name": "ipython",
    "version": 3
   },
   "file_extension": ".py",
   "mimetype": "text/x-python",
   "name": "python",
   "nbconvert_exporter": "python",
   "pygments_lexer": "ipython3",
   "version": "3.12.9"
  }
 },
 "nbformat": 4,
 "nbformat_minor": 2
}
